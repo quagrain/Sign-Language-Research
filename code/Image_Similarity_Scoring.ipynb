{
  "nbformat": 4,
  "nbformat_minor": 0,
  "metadata": {
    "colab": {
      "provenance": [],
      "collapsed_sections": [
        "1D8odBKe0-Cp"
      ],
      "authorship_tag": "ABX9TyNCJFRbklWtGhzzqDhaFwTV",
      "include_colab_link": true
    },
    "kernelspec": {
      "name": "python3",
      "display_name": "Python 3"
    },
    "language_info": {
      "name": "python"
    }
  },
  "cells": [
    {
      "cell_type": "markdown",
      "metadata": {
        "id": "view-in-github",
        "colab_type": "text"
      },
      "source": [
        "<a href=\"https://colab.research.google.com/github/quagrain/Sign-Language-Research/blob/main/Image_Similarity_Scoring.ipynb\" target=\"_parent\"><img src=\"https://colab.research.google.com/assets/colab-badge.svg\" alt=\"Open In Colab\"/></a>"
      ]
    },
    {
      "cell_type": "markdown",
      "source": [
        "## Mean Squared Error"
      ],
      "metadata": {
        "id": "UKtLgdU9ZFbE"
      }
    },
    {
      "cell_type": "markdown",
      "source": [
        "### Functions"
      ],
      "metadata": {
        "id": "_LkHHwnO1I1x"
      }
    },
    {
      "cell_type": "code",
      "source": [
        "images = [\n",
        "    '/content/clasp_1144x644.png',\n",
        "    '/content/clasp_1152x650.png',\n",
        "    '/content/sit_926x524.png',\n",
        "    '/content/sit_930x522.png',\n",
        "    '/content/thumbs_738X420.png',\n",
        "    '/content/two_456x262.png',\n",
        "    '/content/two_460x258.png',\n",
        "    '/content/two_726x414.png',\n",
        "    '/content/two_728x414.png',\n",
        "    '/content/two_two_736x416.png',\n",
        "    '/content/u1_1156x650.png',\n",
        "    '/content/u2_1150x648.png',\n",
        "    '/content/u3_930x522.png',\n",
        "    '/content/u4_736x414.png',\n",
        "    '/content/write_924x522.png',\n",
        "    '/content/write_926x526.png',\n",
        "    '/content/write_930x524.png'\n",
        "]"
      ],
      "metadata": {
        "id": "SJlxQwo1l08q"
      },
      "execution_count": null,
      "outputs": []
    },
    {
      "cell_type": "code",
      "source": [
        "from google.colab.patches import cv2_imshow\n",
        "import pandas as pd\n",
        "import numpy as np\n",
        "import cv2\n",
        "import os"
      ],
      "metadata": {
        "id": "LDo_L-uGg4lp"
      },
      "execution_count": null,
      "outputs": []
    },
    {
      "cell_type": "markdown",
      "source": [
        "Mean Squared Error Function"
      ],
      "metadata": {
        "id": "9VBzWScIw9tr"
      }
    },
    {
      "cell_type": "code",
      "source": [
        "def mse(imageA, imageB):\n",
        "    if imageA.shape != imageB.shape:\n",
        "        imageB = cv2.resize(imageB, (imageA.shape[1], imageA.shape[0]))\n",
        "\n",
        "    err = np.sum((imageA.astype(\"float\") - imageB.astype(\"float\")) ** 2)\n",
        "\n",
        "\n",
        "    n = imageA.shape[0] * imageA.shape[1]  # width × height\n",
        "    if len(imageA.shape) == 3:  # account for RGB by multiplyign channel by resolution\n",
        "        n = n * imageA.shape[2]\n",
        "\n",
        "    err /= float(n)\n",
        "    return err"
      ],
      "metadata": {
        "id": "nGQBP6Jbatv4"
      },
      "execution_count": null,
      "outputs": []
    },
    {
      "cell_type": "markdown",
      "source": [
        "Given two images, show the images with their RGB and Greyscale MSEs"
      ],
      "metadata": {
        "id": "WWjBp7cGxBza"
      }
    },
    {
      "cell_type": "code",
      "source": [
        "def compare_images(imageA, imageB):\n",
        "    imageA = cv2.imread(imageA)\n",
        "    imageB = cv2.imread(imageB)\n",
        "\n",
        "    mse_rgb = mse(imageA, imageB)\n",
        "    mse_gray = mse(cv2.cvtColor(imageA, cv2.COLOR_BGR2GRAY), cv2.cvtColor(imageB, cv2.COLOR_BGR2GRAY))\n",
        "\n",
        "    max_height = max(imageA.shape[0], imageB.shape[0])\n",
        "    imageA = cv2.resize(imageA, (int(imageA.shape[1] * max_height / imageA.shape[0]), max_height))\n",
        "    imageB = cv2.resize(imageB, (int(imageB.shape[1] * max_height / imageB.shape[0]), max_height))\n",
        "\n",
        "    combined_image = np.concatenate((imageA, imageB), axis=1)\n",
        "    cv2_imshow(combined_image)\n",
        "    print(f\"RGB MSE: {mse_rgb}\")\n",
        "    print(f\"Grayscale MSE: {mse_gray}\")\n",
        "    print()"
      ],
      "metadata": {
        "id": "chKpKqfwfLz-"
      },
      "execution_count": null,
      "outputs": []
    },
    {
      "cell_type": "markdown",
      "source": [
        "Given a list of image paths, show all the possible combinations of the images with their RGB and Greyscale MSEs"
      ],
      "metadata": {
        "id": "3WShsP2rxNsW"
      }
    },
    {
      "cell_type": "code",
      "source": [
        "def compare_all_images(image_list:list):\n",
        "    for i in range(len(image_list)):\n",
        "            for j in range(i + 1, len(image_list)):\n",
        "                compare_images(image_list[i], image_list[j])"
      ],
      "metadata": {
        "id": "4SSVO5DDwLsb"
      },
      "execution_count": null,
      "outputs": []
    },
    {
      "cell_type": "markdown",
      "source": [
        "Store all the MSEs of every possible combination of the images in a DataFrame"
      ],
      "metadata": {
        "id": "KWUCFvLYxjRW"
      }
    },
    {
      "cell_type": "code",
      "source": [
        "def get_dataframe(images):\n",
        "    results = []\n",
        "    for i in range(len(images)):\n",
        "        for j in range(i + 1, len(images)):\n",
        "            image_1_path = images[i]\n",
        "            image_2_path = images[j]\n",
        "\n",
        "            image_1_name = os.path.basename(image_1_path).split('.')[0]\n",
        "            image_2_name = os.path.basename(image_2_path).split('.')[0]\n",
        "\n",
        "            imageA = cv2.imread(image_1_path)\n",
        "            imageB = cv2.imread(image_2_path)\n",
        "\n",
        "            rgb_mse = mse(imageA, imageB)\n",
        "            grayscale_mse = mse(cv2.cvtColor(imageA, cv2.COLOR_BGR2GRAY),\n",
        "                                 cv2.cvtColor(imageB, cv2.COLOR_BGR2GRAY))\n",
        "\n",
        "            results.append([image_1_name, image_2_name, rgb_mse, grayscale_mse])\n",
        "\n",
        "    df = pd.DataFrame(results, columns=['image_1_name', 'image_2_name', 'rgb_mse', 'grayscale_mse'])\n",
        "    return df"
      ],
      "metadata": {
        "id": "DdphvkESupLy"
      },
      "execution_count": null,
      "outputs": []
    },
    {
      "cell_type": "markdown",
      "source": [
        "Show the results from the DataFrame"
      ],
      "metadata": {
        "id": "XpBqy-U502wg"
      }
    },
    {
      "cell_type": "code",
      "source": [
        "def show_images_with_mse(row):\n",
        "    image_1_path = f\"/content/{row['image_1_name']}.png\"\n",
        "    image_2_path = f\"/content/{row['image_2_name']}.png\"\n",
        "\n",
        "    image1 = cv2.imread(image_1_path)\n",
        "    image2 = cv2.imread(image_2_path)\n",
        "\n",
        "    max_height = max(image1.shape[0], image2.shape[0])\n",
        "    image1 = cv2.resize(image1, (int(image1.shape[1] * max_height / image1.shape[0]), max_height))\n",
        "    image2 = cv2.resize(image2, (int(image2.shape[1] * max_height / image2.shape[0]), max_height))\n",
        "\n",
        "    combined_image = np.concatenate((image1, image2), axis=1)\n",
        "\n",
        "    cv2_imshow(combined_image)\n",
        "\n",
        "    print(f\"Image 1: {row['image_1_name']}, Image2: {row['image_2_name']}\")\n",
        "    print(f\"RGB MSE: {row['rgb_mse']:.2f}\")\n",
        "    print(f\"Grayscale MSE: {row['grayscale_mse']:.2f}\")"
      ],
      "metadata": {
        "id": "ez08vZyHwkRm"
      },
      "execution_count": null,
      "outputs": []
    },
    {
      "cell_type": "markdown",
      "source": [
        "### Tests"
      ],
      "metadata": {
        "id": "1D8odBKe0-Cp"
      }
    },
    {
      "cell_type": "code",
      "source": [
        "compare_images(images[4], images[7])"
      ],
      "metadata": {
        "id": "mb5zXQ5Klxs5"
      },
      "execution_count": null,
      "outputs": []
    },
    {
      "cell_type": "code",
      "source": [
        "df = get_dataframe(images)"
      ],
      "metadata": {
        "id": "Ap0OYoC2rm-i"
      },
      "execution_count": null,
      "outputs": []
    },
    {
      "cell_type": "code",
      "source": [
        "sorted = df.sort_values(by=['grayscale_mse'], ascending=[True]).head(40)"
      ],
      "metadata": {
        "id": "s8fNPTMespt3"
      },
      "execution_count": null,
      "outputs": []
    },
    {
      "cell_type": "code",
      "source": [
        "sorted.head(10)"
      ],
      "metadata": {
        "id": "MIUs4PQ51_N_"
      },
      "execution_count": null,
      "outputs": []
    },
    {
      "cell_type": "code",
      "source": [
        "#show_images_with_mse(sorted.iloc[0])"
      ],
      "metadata": {
        "id": "IgUQs8U336GY"
      },
      "execution_count": null,
      "outputs": []
    },
    {
      "cell_type": "code",
      "source": [
        "for index, row in sorted.iterrows():\n",
        "    show_images_with_mse(row)\n",
        "    print(\"Index:\", index)"
      ],
      "metadata": {
        "id": "4JVgC3ca0rCO"
      },
      "execution_count": null,
      "outputs": []
    },
    {
      "cell_type": "code",
      "source": [],
      "metadata": {
        "id": "6Leqq0YGw11T"
      },
      "execution_count": null,
      "outputs": []
    },
    {
      "cell_type": "markdown",
      "source": [
        "## Structural Similarity Index Measure"
      ],
      "metadata": {
        "id": "MmB83_QS45xm"
      }
    },
    {
      "cell_type": "markdown",
      "source": [
        "### Functions"
      ],
      "metadata": {
        "id": "mVzZW86m5JbL"
      }
    },
    {
      "cell_type": "code",
      "source": [
        "from skimage import io\n",
        "from skimage.metrics import structural_similarity as ssim"
      ],
      "metadata": {
        "id": "MFkj6rcl5JDP"
      },
      "execution_count": null,
      "outputs": []
    },
    {
      "cell_type": "code",
      "source": [
        "imageA = io.imread(images[4])\n",
        "imageB = io.imread(images[7])"
      ],
      "metadata": {
        "id": "KO3DjrLY46sB"
      },
      "execution_count": null,
      "outputs": []
    },
    {
      "cell_type": "code",
      "source": [
        "image1 = cv2.imread(images[4], cv2.IMREAD_UNCHANGED)\n",
        "image2 = cv2.imread(images[7])"
      ],
      "metadata": {
        "id": "5wR_V8uB5WRa"
      },
      "execution_count": null,
      "outputs": []
    },
    {
      "cell_type": "code",
      "source": [],
      "metadata": {
        "id": "VjyNZeXl5Yk9"
      },
      "execution_count": null,
      "outputs": []
    },
    {
      "cell_type": "code",
      "source": [
        "similarity_index, _ = ssim(imageA, imageB, full=True)\n",
        "print(f\"Similarity Index: {similarity_index}\")"
      ],
      "metadata": {
        "id": "tOFXU4Xi51-b"
      },
      "execution_count": null,
      "outputs": []
    }
  ]
}